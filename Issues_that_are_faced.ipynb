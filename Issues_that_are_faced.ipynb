{
 "cells": [
  {
   "cell_type": "markdown",
   "metadata": {},
   "source": [
    "# The issues faced are as follows: "
   ]
  },
  {
   "cell_type": "markdown",
   "metadata": {},
   "source": [
    "1. HLS4ML was not running on windows <br> Solution : We used ubuntu to run HLS4ML\n"
   ]
  },
  {
   "cell_type": "markdown",
   "metadata": {},
   "source": [
    "2. There is some problem with the latest version of tensorflow. <br>\n",
    "Solution : We used tensorflow version 2.15.0 and whenever we downloaded any other package, tensorflow was getting updated to the latest version. We had to downgrade tensorflow again and again."
   ]
  },
  {
   "cell_type": "markdown",
   "metadata": {},
   "source": [
    "3. The system was crashing while running the HLS4ML <br>\n",
    "Solution :    config['LayerName'][Layer]['Strategy'] = 'resource' <br>\n",
    "This sets the optimization strategy to prioritize efficient usage of hardware resources"
   ]
  }
 ],
 "metadata": {
  "language_info": {
   "name": "python"
  }
 },
 "nbformat": 4,
 "nbformat_minor": 2
}
